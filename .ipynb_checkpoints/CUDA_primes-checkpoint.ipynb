{
 "cells": [
  {
   "cell_type": "code",
   "execution_count": 53,
   "id": "e91680f0",
   "metadata": {},
   "outputs": [],
   "source": [
    "from numba import jit, cuda\n",
    "import numpy as np\n",
    "# to measure exec time\n",
    "#from timeit import default_timer as timer \n",
    "import time\n",
    " \n"
   ]
  },
  {
   "cell_type": "code",
   "execution_count": 54,
   "id": "a8128db3",
   "metadata": {},
   "outputs": [],
   "source": [
    "def isprime_cpu(num):\n",
    "# define a flag variable\n",
    "    flag = False\n",
    "\n",
    "    # prime numbers are greater than 1\n",
    "    if num > 1:\n",
    "        # check for factors\n",
    "        for i in range(2, num):\n",
    "            if (num % i) == 0:\n",
    "                # if factor is found, set flag to True\n",
    "                flag = True\n",
    "                # break out of loop\n",
    "                break\n",
    "    return flag"
   ]
  },
  {
   "cell_type": "code",
   "execution_count": 55,
   "id": "4c9d1a36",
   "metadata": {},
   "outputs": [],
   "source": [
    "# normal function to run on cpu\n",
    "def sum_primes_cpu(n):\n",
    "    \"\"\"Calculates sum of all primes below given integer n\"\"\"\n",
    "    return sum([x for x in range(2,n) if isprime_cpu(x)])\n",
    " \n"
   ]
  },
  {
   "cell_type": "code",
   "execution_count": 56,
   "id": "2e43638f",
   "metadata": {},
   "outputs": [],
   "source": [
    "# function optimized to run on gpu\n",
    "@jit(target_backend =\"cuda\")                        \n",
    "def sum_primes_gpu(n):\n",
    "    \"\"\"Calculates sum of all primes below given integer n\"\"\"\n",
    "    return sum([x for x in range(2,n) if isprime_gpu(x)])\n",
    "\n"
   ]
  },
  {
   "cell_type": "code",
   "execution_count": 57,
   "id": "4ad9ec64",
   "metadata": {},
   "outputs": [],
   "source": [
    "@jit(target_backend =\"cuda\")                        \n",
    "def isprime_gpu(num):\n",
    "# define a flag variable\n",
    "    flag = False\n",
    "\n",
    "    # prime numbers are greater than 1\n",
    "    if num > 1:\n",
    "        # check for factors\n",
    "        for i in range(2, num):\n",
    "            if (num % i) == 0:\n",
    "                # if factor is found, set flag to True\n",
    "                flag = True\n",
    "                # break out of loop\n",
    "                break\n",
    "    return flag"
   ]
  },
  {
   "cell_type": "code",
   "execution_count": null,
   "id": "2605d38b",
   "metadata": {
    "scrolled": true
   },
   "outputs": [
    {
     "name": "stdout",
     "output_type": "stream",
     "text": [
      "100000\n",
      "sum: 4545553462 without GPU: 22.93265 s\n",
      "sum: 4545553462 with GPU: 1.61130 s\n",
      "100100\n",
      "sum: 4554958172 without GPU: 23.60381 s\n",
      "sum: 4554958172 with GPU: 1.50693 s\n",
      "100200\n",
      "sum: 4564071743 without GPU: 23.68372 s\n",
      "sum: 4564071743 with GPU: 1.50249 s\n",
      "100300\n",
      "sum: 4573294631 without GPU: 23.78116 s\n",
      "sum: 4573294631 with GPU: 1.52028 s\n",
      "100400\n",
      "sum: 4582426348 without GPU: 23.94231 s\n",
      "sum: 4582426348 with GPU: 1.52753 s\n",
      "100500\n"
     ]
    }
   ],
   "source": [
    "if __name__==\"__main__\":\n",
    "    inputs = [100000, 100100, 100200, 100300, 100400, 100500, 100600, 100700]\n",
    "    for n in inputs:\n",
    "        print(n)\n",
    "        start_time = time.time()\n",
    "        sum_primes_1= sum_primes_cpu(n)\n",
    "        print(\"sum: %d without GPU: %.5f s\" % (sum_primes_1, time.time() - start_time))\n",
    "     \n",
    "        start_time = time.time()\n",
    "        sum_primes_2= sum_primes_gpu(n)\n",
    "        print(\"sum: %d with GPU: %.5f s\" %  (sum_primes_2, time.time() - start_time))"
   ]
  },
  {
   "cell_type": "code",
   "execution_count": null,
   "id": "cca6d032",
   "metadata": {},
   "outputs": [],
   "source": []
  }
 ],
 "metadata": {
  "kernelspec": {
   "display_name": "Python 3 (ipykernel)",
   "language": "python",
   "name": "python3"
  },
  "language_info": {
   "codemirror_mode": {
    "name": "ipython",
    "version": 3
   },
   "file_extension": ".py",
   "mimetype": "text/x-python",
   "name": "python",
   "nbconvert_exporter": "python",
   "pygments_lexer": "ipython3",
   "version": "3.7.13"
  }
 },
 "nbformat": 4,
 "nbformat_minor": 5
}
