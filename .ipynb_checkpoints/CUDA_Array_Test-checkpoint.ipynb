{
 "cells": [
  {
   "cell_type": "code",
   "execution_count": null,
   "id": "0b38c496",
   "metadata": {},
   "outputs": [],
   "source": [
    "## This tests CUDA performance with a numpy implementation compared to single threaded CPU run"
   ]
  },
  {
   "cell_type": "code",
   "execution_count": 7,
   "id": "e91680f0",
   "metadata": {},
   "outputs": [],
   "source": [
    "from numba import jit, cuda\n",
    "import numpy as np\n",
    "# to measure exec time\n",
    "from timeit import default_timer as timer  \n",
    " \n"
   ]
  },
  {
   "cell_type": "code",
   "execution_count": 4,
   "id": "4c9d1a36",
   "metadata": {},
   "outputs": [],
   "source": [
    "# normal function to run on cpu\n",
    "def func(a):                               \n",
    "    for i in range(10000000):\n",
    "        a[i]+= 1     \n",
    " \n"
   ]
  },
  {
   "cell_type": "code",
   "execution_count": 5,
   "id": "2e43638f",
   "metadata": {},
   "outputs": [],
   "source": [
    "# function optimized to run on gpu\n",
    "@jit(target_backend =\"cuda\")                        \n",
    "def func2(a):\n",
    "    for i in range(10000000):\n",
    "        a[i]+= 1\n"
   ]
  },
  {
   "cell_type": "code",
   "execution_count": 6,
   "id": "2605d38b",
   "metadata": {},
   "outputs": [
    {
     "name": "stdout",
     "output_type": "stream",
     "text": [
      "without GPU: 3.369287\n",
      "with GPU: 0.22973679999999774\n"
     ]
    }
   ],
   "source": [
    "if __name__==\"__main__\":\n",
    "    n = 10000000                           \n",
    "    a = np.ones(n, dtype = np.float64)\n",
    "    b = np.ones(n, dtype = np.float32)\n",
    "     \n",
    "    start = timer()\n",
    "    func(a)\n",
    "    print(\"without GPU:\", timer()-start)   \n",
    "     \n",
    "    start = timer()\n",
    "    func2(a)\n",
    "    print(\"with GPU:\", timer()-start)"
   ]
  },
  {
   "cell_type": "code",
   "execution_count": null,
   "id": "0a97eee5",
   "metadata": {},
   "outputs": [],
   "source": []
  },
  {
   "cell_type": "code",
   "execution_count": null,
   "id": "0b2b7142",
   "metadata": {},
   "outputs": [],
   "source": []
  }
 ],
 "metadata": {
  "kernelspec": {
   "display_name": "Python 3 (ipykernel)",
   "language": "python",
   "name": "python3"
  },
  "language_info": {
   "codemirror_mode": {
    "name": "ipython",
    "version": 3
   },
   "file_extension": ".py",
   "mimetype": "text/x-python",
   "name": "python",
   "nbconvert_exporter": "python",
   "pygments_lexer": "ipython3",
   "version": "3.7.13"
  }
 },
 "nbformat": 4,
 "nbformat_minor": 5
}
